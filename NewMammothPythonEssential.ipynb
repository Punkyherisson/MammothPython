{
  "nbformat": 4,
  "nbformat_minor": 0,
  "metadata": {
    "colab": {
      "provenance": [],
      "authorship_tag": "ABX9TyPJ6FEMsPpLMVQpH72QYu+b",
      "include_colab_link": true
    },
    "kernelspec": {
      "name": "python3",
      "display_name": "Python 3"
    },
    "language_info": {
      "name": "python"
    }
  },
  "cells": [
    {
      "cell_type": "markdown",
      "metadata": {
        "id": "view-in-github",
        "colab_type": "text"
      },
      "source": [
        "<a href=\"https://colab.research.google.com/github/Punkyherisson/MammothPython/blob/main/NewMammothPythonEssential.ipynb\" target=\"_parent\"><img src=\"https://colab.research.google.com/assets/colab-badge.svg\" alt=\"Open In Colab\"/></a>"
      ]
    },
    {
      "cell_type": "markdown",
      "source": [
        "https://mammothclub.com/course-learn/The-7-HOUR-Complete-Python-Essentials-Learn-to-Code-Bundle"
      ],
      "metadata": {
        "id": "KmKfGkxc4mtX"
      }
    },
    {
      "cell_type": "markdown",
      "source": [
        "Identique au cours de l'ancien Mammoth : https://mammoth-interactive.teachable.com/courses/enrolled/2689246\n"
      ],
      "metadata": {
        "id": "jfVY3a_D89Ol"
      }
    },
    {
      "cell_type": "code",
      "execution_count": null,
      "metadata": {
        "id": "5nYY87Eu4kjq"
      },
      "outputs": [],
      "source": [
        "# 3\n",
        "# Bool\n",
        "is_game_over = False\n",
        "print(is_game_over)\n",
        "is_game_over = True\n",
        "print(is_game_over)\n",
        "is_game_over = 5 > 6\n",
        "print(is_game_over)"
      ]
    },
    {
      "cell_type": "code",
      "source": [
        "# int\n",
        "num_lives = 5\n",
        "print(num_lives)\n",
        "# float\n",
        "percent_health = 0.5\n",
        "print(percent_heal"
      ],
      "metadata": {
        "id": "725PbjlU96N9"
      },
      "execution_count": null,
      "outputs": []
    },
    {
      "cell_type": "code",
      "source": [
        "# str\n",
        "player_name = \"Nimish\"\n",
        "print(player_name)\n",
        "player_name = 'Mammoth'\n",
        "print(player_name)"
      ],
      "metadata": {
        "id": "9h39boa1-AxH"
      },
      "execution_count": null,
      "outputs": []
    },
    {
      "cell_type": "code",
      "source": [
        "# type\n",
        "print(type(is_game_over))\n",
        "print(type(num_lives))\n",
        "print(type(percent_health))\n",
        "print(type(player_name))\n",
        "\n",
        "num_lives = \"5\"\n",
        "print(type(num_lives))"
      ],
      "metadata": {
        "id": "kv3i8WwW-Emp"
      },
      "execution_count": null,
      "outputs": []
    },
    {
      "cell_type": "code",
      "source": [
        "# 4\n",
        "# Converting to str\n",
        "num_lives = 5\n",
        "# num_lives = \"5\"\n",
        "str_num_lives = str(num_lives)\n",
        "print(type(num_lives))\n",
        "print(type(str_num_lives))"
      ],
      "metadata": {
        "id": "-cEMAmdo-KBy"
      },
      "execution_count": null,
      "outputs": []
    },
    {
      "cell_type": "code",
      "source": [
        "# Converting to bool\n",
        "print(bool(0))\n",
        "print(bool(0.1))\n",
        "print(bool(\"afsdafsd\"))\n",
        "print(bool(\"False\"))"
      ],
      "metadata": {
        "id": "dSBTnrt_-Oh6"
      },
      "execution_count": null,
      "outputs": []
    },
    {
      "cell_type": "code",
      "source": [
        "# Converting to int\n",
        "# print(int(\"fasdfsd\"))\n",
        "print(int(\"1\"))\n",
        "print(int(0.5))\n",
        "print(int(False))\n",
        "print(int(True))"
      ],
      "metadata": {
        "id": "_Ofog9E6-TGz"
      },
      "execution_count": null,
      "outputs": []
    },
    {
      "cell_type": "code",
      "source": [
        "# Converting to float\n",
        "print(float(\"1\"))\n",
        "print(float(5))\n",
        "print(float(False))\n",
        "print(float(True))"
      ],
      "metadata": {
        "id": "sNsFw_L8-YF7"
      },
      "execution_count": null,
      "outputs": []
    },
    {
      "cell_type": "code",
      "source": [
        "# 6\n",
        "# Assignment operators\n",
        "health = 50\n",
        "# Arithmetic operators\n",
        "new_health = health + 20\n",
        "print(health)\n",
        "health = health + 20\n",
        "print(health)\n",
        "\n",
        "xPos = 5\n",
        "print(xPos % 2)\n",
        "print(xPos // 2)\n",
        "print(xPos ** 2)\n",
        "print(xPos)\n",
        "\n",
        "first_name = \"Nimish\"\n",
        "last_name = \"Narang\"\n",
        "print(first_name + \" \" + last_name)"
      ],
      "metadata": {
        "id": "icUvmLnc-b_R"
      },
      "execution_count": null,
      "outputs": []
    },
    {
      "cell_type": "code",
      "source": [
        "# Assignment-arithmetic operators\n",
        "health = 50\n",
        "health += 20\n",
        "health -= 50\n",
        "print(health)\n",
        "\n",
        "name = \"Nimish\"\n",
        "name += \" Narang\"\n",
        "print(name)"
      ],
      "metadata": {
        "id": "4004_8Wt-oZi"
      },
      "execution_count": null,
      "outputs": []
    },
    {
      "cell_type": "code",
      "source": [
        "# 7\n",
        "# Conditional operators: > >= < <= == !=\n",
        "result = 5 > 2\n",
        "print(result)\n",
        "print(type(result))\n",
        "print(5 == 2)\n",
        "print(5 != health)\n",
        "print(5.0 == 5)"
      ],
      "metadata": {
        "id": "s4SEVcDF-rQ7"
      },
      "execution_count": null,
      "outputs": []
    },
    {
      "cell_type": "code",
      "source": [
        "# More conditional operators\n",
        "a = \"a\"\n",
        "a_ = \"A\"\n",
        "print(True == False)\n",
        "print(first_name == last_name)\n",
        "print(a == a_)\n",
        "b = \"1\"\n",
        "print(a > b)\n",
        "print(1 > True)\n",
        "print(b == False)\n",
        "# print(b > 5)"
      ],
      "metadata": {
        "id": "y0Zi4nqe-wZi"
      },
      "execution_count": null,
      "outputs": []
    },
    {
      "cell_type": "code",
      "source": [
        "# Logical Operators\n",
        "# not and or\n",
        "is_game_over = False\n",
        "is_game_over = not is_game_over\n",
        "print(is_game_over)\n",
        "health = 0\n",
        "lives = 1\n",
        "print(health <= 0 and lives <= 0)\n",
        "print(health <= 0 or lives <= 0)"
      ],
      "metadata": {
        "id": "h-46MuBp-66h"
      },
      "execution_count": null,
      "outputs": []
    },
    {
      "cell_type": "code",
      "source": [
        "# 9\n",
        "# Lists\n",
        "inventory = ['Sword', 'Bread', 'Boots']\n",
        "sword = inventory[0]\n",
        "print(sword)\n",
        "inventory[1] = 'Apples'\n",
        "print(inventory)"
      ],
      "metadata": {
        "id": "kNmGFTuR_AK2"
      },
      "execution_count": null,
      "outputs": []
    },
    {
      "cell_type": "code",
      "source": [
        "# List functions\n",
        "inventory = ['Sword', 'Bread', 'Boots']\n",
        "print(len(inventory))\n",
        "print(max(inventory))\n",
        "print(min(inventory))\n",
        "\n",
        "inventory.append('Hat')\n",
        "print(inventory)\n",
        "inventory.insert(0, 'Knife')\n",
        "print(inventory)\n",
        "inventory.pop()\n",
        "print(inventory)\n",
        "inventory.remove('Sword')\n",
        "print(inventory)\n",
        "inventory.clear()"
      ],
      "metadata": {
        "id": "MjwNevGN_E5V"
      },
      "execution_count": null,
      "outputs": []
    },
    {
      "cell_type": "code",
      "source": [
        "# 10 2D Lists\n",
        "universe = [[1, 2, 3],\n",
        "            [1, 2, 3, 4],\n",
        "            [1, 2],\n",
        "            [1, 2, 3]]\n",
        "ninth_world = universe[2][1]\n",
        "ninth_world = 5\n",
        "universe.append([1, 2, 3, 4, 5])\n",
        "universe[1].pop()\n",
        "print(universe)"
      ],
      "metadata": {
        "id": "brmccDif_Jux"
      },
      "execution_count": null,
      "outputs": []
    },
    {
      "cell_type": "code",
      "source": [
        "# 11 Tuples\n",
        "item = (\"Health Kit\", 4)\n",
        "name = item[0]\n",
        "print(name)\n",
        "# item[1] = 10\n",
        "item = (\"Knife\", 1)\n",
        "print(item)\n",
        "\n",
        "print(item.count('Knife'))\n",
        "print(item.index(1))\n",
        "\n",
        "item = (1, 2, 3)\n",
        "\n",
        "print(len(item))\n",
        "print(max(item))\n",
        "print(min(item))"
      ],
      "metadata": {
        "id": "87bE-R8n_W2A"
      },
      "execution_count": null,
      "outputs": []
    },
    {
      "cell_type": "code",
      "source": [
        "# 12 Dictionaries\n",
        "inventory = {'Knife':1, 'Health Kit': 3, 'Wood': 5}\n",
        "print(inventory['Health Kit'])\n",
        "inventory['Knife'] = 2\n",
        "print(inventory)\n",
        "inventory['Gold'] = 50\n",
        "print(inventory)"
      ],
      "metadata": {
        "id": "6lDpKkh1_gLc"
      },
      "execution_count": null,
      "outputs": []
    },
    {
      "cell_type": "code",
      "source": [
        "# Dictionary Functions\n",
        "inventory = {'Knife':1, 'Health Kit': 3, 'Wood': 5}\n",
        "# print(inventory['Gold'])\n",
        "print(inventory.get('Gold'))\n",
        "print(inventory.keys())\n",
        "print(inventory.values())\n",
        "\n",
        "print(inventory.pop('Knife'))\n",
        "print(inventory)\n",
        "# inventory.clear()\n",
        "\n",
        "inventory['Apple'] = 10\n",
        "print(len(inventory))\n",
        "print(min(inventory))\n",
        "print(max(inventory))"
      ],
      "metadata": {
        "id": "Fspl5fX3_u06"
      },
      "execution_count": null,
      "outputs": []
    },
    {
      "cell_type": "code",
      "source": [
        "# 13 Ranges\n",
        "first_ten = range(10)\n",
        "print(first_ten[0])\n",
        "print(first_ten[9])\n",
        "\n",
        "first_ten = range(1,11)\n",
        "print(first_ten[0])\n",
        "print(first_ten[9])\n",
        "\n",
        "print(list(range(1,11,2)))\n",
        "\n",
        "reversed_ten = reversed(first_ten)\n",
        "reversed_ten = list(reversed_ten)\n",
        "print(reversed_ten)\n",
        "\n",
        "print(15 not in first_ten)"
      ],
      "metadata": {
        "id": "PGBT-npX_z2p"
      },
      "execution_count": null,
      "outputs": []
    },
    {
      "cell_type": "code",
      "source": [
        "# 15 if, elif, else statements\n",
        "key_press = 'adsf'\n",
        "if key_press == 'r':\n",
        "  print('Move right')\n",
        "elif key_press == 'l':\n",
        "  print('Move left')\n",
        "else:\n",
        "  print('Invalid key')\n",
        "\n",
        "command = 'Move right' if key_press == 'r' else 'Invalid key'"
      ],
      "metadata": {
        "id": "WClSLPr3AEAb"
      },
      "execution_count": null,
      "outputs": []
    },
    {
      "cell_type": "code",
      "source": [
        "# 16 if statement variants\n",
        "num_lives = 3\n",
        "num_health_kits = 3\n",
        "health = 0\n",
        "if health <= 0 and num_health_kits <= 0:\n",
        "  num_lives -= 1\n",
        "  print('You lose a life!')\n",
        "  if num_lives <= 0:\n",
        "    print('You died!')\n",
        "elif health < 10:\n",
        "  print('Warning, less than 10% health!')\n",
        "elif health < 50:\n",
        "  print('Warning, less than 50% health!')\n"
      ],
      "metadata": {
        "id": "53xyCAxIAI8g"
      },
      "execution_count": null,
      "outputs": []
    },
    {
      "cell_type": "code",
      "source": [
        "# 18 while loops\n",
        "x_pos = 0\n",
        "y_pos = 1\n",
        "end_pos = 5\n",
        "enemy_pos = 3\n",
        "while x_pos < end_pos:\n",
        "  x_pos += 1\n",
        "  print(x_pos)\n",
        "  if y_pos > 0:\n",
        "    continue\n",
        "  if x_pos == enemy_pos:\n",
        "    print(\"You collided with the enemy\")\n",
        "    break\n",
        "print(\"Game over\")"
      ],
      "metadata": {
        "id": "iYztqihRAhth"
      },
      "execution_count": null,
      "outputs": []
    },
    {
      "cell_type": "code",
      "source": [
        "# 19 for loops\n",
        "# our_range = range(1,6)\n",
        "# for i in our_range:\n",
        "#   print(i)\n",
        "\n",
        "inventory = ['Boots', 'Arrows', 'Bow', 'Sword']\n",
        "# for item in inventory:\n",
        "#   print(item)\n",
        "\n",
        "# for i in range(4):\n",
        "#   print(inventory[i])\n",
        "#   if i == 1:\n",
        "#     break\n",
        "\n",
        "i = 0\n",
        "while i < len(inventory):\n",
        "  print(inventory[i])\n",
        "  i += 1"
      ],
      "metadata": {
        "id": "w55vsZU6Amnz"
      },
      "execution_count": null,
      "outputs": []
    },
    {
      "cell_type": "code",
      "source": [
        "# 21 functions\n",
        "x_pos = 0\n",
        "\n",
        "def move():\n",
        "  global x_pos\n",
        "  x_pos += 1\n",
        "\n",
        "move()\n",
        "move()\n",
        "move()\n",
        "move()\n",
        "print(x_pos)"
      ],
      "metadata": {
        "id": "eW9Xy80kA26Q"
      },
      "execution_count": null,
      "outputs": []
    },
    {
      "cell_type": "code",
      "source": [
        "# 22 parameters and return values\n",
        "x_pos = 0\n",
        "\n",
        "def move(by_amount=1):\n",
        "  global x_pos\n",
        "  x_pos += by_amount\n",
        "\n",
        "move(5)\n",
        "print(x_pos)"
      ],
      "metadata": {
        "id": "puJJ7RC5A9l0"
      },
      "execution_count": null,
      "outputs": []
    },
    {
      "cell_type": "code",
      "source": [
        "start_pos = 0\n",
        "end_pos = 10\n",
        "x_pos = 0\n",
        "\n",
        "def move(x_pos, by_amount=1):\n",
        "  global start_pos, end_pos\n",
        "  x_pos += by_amount\n",
        "  if x_pos < start_pos:\n",
        "    return start_pos\n",
        "  elif x_pos > end_pos:\n",
        "    return end_pos\n",
        "  return x_pos\n",
        "\n",
        "x_pos = move(x_pos, -15)\n",
        "print(x_pos)"
      ],
      "metadata": {
        "id": "_XQzVXVSBW0_"
      },
      "execution_count": null,
      "outputs": []
    },
    {
      "cell_type": "code",
      "source": [
        "# 24 classes\n",
        "class GameCharacter:\n",
        "\n",
        "  speed = 1.0\n",
        "\n",
        "  def __init__(self, name, x_pos, health):\n",
        "    self.name = name\n",
        "    self.x_pos = x_pos\n",
        "    self.health = health\n",
        "\n",
        "  def move(self, by_amount):\n",
        "    self.x_pos += by_amount\n",
        "\n",
        "  def take_damage(self, amount):\n",
        "    self.health -= amount\n",
        "    if self.health < 0:\n",
        "      self.health = 0\n",
        "\n",
        "  def check_is_dead(self):\n",
        "    return self.health <= 0\n",
        "\n",
        "  def change_speed(to_speed):\n",
        "    GameCharacter.speed = to_speed\n"
      ],
      "metadata": {
        "id": "bBDGKLQaBd1a"
      },
      "execution_count": null,
      "outputs": []
    },
    {
      "cell_type": "code",
      "source": [
        "# 24 classes\n",
        "class GameCharacter:\n",
        "\n",
        "  speed = 1.0\n",
        "\n",
        "  def __init__(self, name, x_pos, health):\n",
        "    self.name = name\n",
        "    self.x_pos = x_pos\n",
        "    self.health = health\n",
        "\n",
        "  def move(self, by_amount):\n",
        "    self.x_pos += by_amount\n",
        "\n",
        "  def take_damage(self, amount):\n",
        "    self.health -= amount\n",
        "    if self.health < 0:\n",
        "      self.health = 0\n",
        "\n",
        "  def check_is_dead(self):\n",
        "    return self.health <= 0\n",
        "\n",
        "  def change_speed(to_speed):\n",
        "    GameCharacter.speed = to_speed\n"
      ],
      "metadata": {
        "id": "zhkcXC-GBlKz"
      },
      "execution_count": null,
      "outputs": []
    },
    {
      "cell_type": "code",
      "source": [
        "# 26 inheritance\n",
        "class PlayerCharacter(GameCharacter):\n",
        "\n",
        "  def __init__(self, name, x_pos, health, num_lives):\n",
        "    super().__init__(name, x_pos, health)\n",
        "    self.max_health = health\n",
        "    self.num_lives = num_lives\n",
        "\n",
        "  def take_damage(self, amount):\n",
        "    self.health -= amount\n",
        "    if self.health <= 0:\n",
        "      self.num_lives -= 1\n",
        "      self.health = self.max_health\n",
        "\n",
        "  def check_is_dead(self):\n",
        "    return self.health <= 0 and self.num_lives <= 0"
      ],
      "metadata": {
        "id": "AT4m-pprBrmj"
      },
      "execution_count": null,
      "outputs": []
    },
    {
      "cell_type": "code",
      "source": [
        "pc = PlayerCharacter('Nimish', 0, 100, 3)\n",
        "gc = GameCharacter('Wolf', 0, 100)\n",
        "\n",
        "print(pc.max_health)\n",
        "# print(gc.max_health)\n",
        "\n",
        "pc.move(2)\n",
        "print(pc.x_pos)\n",
        "gc.move(2)\n",
        "print(gc.x_pos)\n",
        "\n",
        "pc.take_damage(150)\n",
        "gc.take_damage(150)\n",
        "print(pc.health)\n",
        "print(gc.health)\n",
        "\n",
        "print(pc.check_is_dead())\n",
        "print(gc.check_is_dead())"
      ],
      "metadata": {
        "id": "zoM4Ml-fBx4T"
      },
      "execution_count": null,
      "outputs": []
    },
    {
      "cell_type": "code",
      "source": [
        "gc_1 = GameCharacter('Wolf', 0, 100)\n",
        "gc_2 = GameCharacter('Lion', 2, 150)\n",
        "\n",
        "# print(gc_1.speed)\n",
        "# print(gc_2.speed)\n",
        "# print(GameCharacter.speed)\n",
        "\n",
        "# GameCharacter.speed = 2.0\n",
        "GameCharacter.change_speed(4.0)\n",
        "print(gc_1.speed)\n",
        "# gc_2.speed = 10\n",
        "print(gc_2.speed)"
      ],
      "metadata": {
        "id": "gwA9GS2JB4Uj"
      },
      "execution_count": null,
      "outputs": []
    }
  ]
}