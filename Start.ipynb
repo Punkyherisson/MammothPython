{
  "nbformat": 4,
  "nbformat_minor": 0,
  "metadata": {
    "colab": {
      "provenance": [],
      "authorship_tag": "ABX9TyOkK2A5rI6CHQcIGrM8nFYF",
      "include_colab_link": true
    },
    "kernelspec": {
      "name": "python3",
      "display_name": "Python 3"
    },
    "language_info": {
      "name": "python"
    }
  },
  "cells": [
    {
      "cell_type": "markdown",
      "metadata": {
        "id": "view-in-github",
        "colab_type": "text"
      },
      "source": [
        "<a href=\"https://colab.research.google.com/github/Punkyherisson/MammothPython/blob/main/Start.ipynb\" target=\"_parent\"><img src=\"https://colab.research.google.com/assets/colab-badge.svg\" alt=\"Open In Colab\"/></a>"
      ]
    },
    {
      "cell_type": "code",
      "execution_count": null,
      "metadata": {
        "colab": {
          "base_uri": "https://localhost:8080/"
        },
        "id": "Uqzbh0_LJGLF",
        "outputId": "a484c437-899f-4f68-a328-58226074894e"
      },
      "outputs": [
        {
          "output_type": "stream",
          "name": "stdout",
          "text": [
            "Valeur de isGameOver  False\n",
            "Valeur de isGameStarted  True\n",
            "personnage  Aragorn  avec  50 points de vie maximum\n",
            "isGameOver=  False  type(isGameOver)  <class 'bool'>\n",
            "personnage=  Aragorn  type(personnage)  <class 'str'>\n"
          ]
        }
      ],
      "source": [
        "# Utilisation des variables\n",
        "# Booleen\n",
        "isGameOver=False\n",
        "print(\"Valeur de isGameOver \",isGameOver)\n",
        "isGameStarted=12>3\n",
        "print(\"Valeur de isGameStarted \",isGameStarted)\n",
        "#String\n",
        "personnage=\"Aragorn\"\n",
        "#integer\n",
        "max_pts_vie=50\n",
        "#float\n",
        "soin_10pourcent=0.1\n",
        "print(\"personnage \",personnage,\" avec \",max_pts_vie,\"points de vie maximum\")\n",
        "#Voir le type d'une variable\n",
        "print(\"isGameOver= \",isGameOver,\" type(isGameOver) \",type(isGameOver))\n",
        "print(\"personnage= \",personnage,\" type(personnage) \",type(personnage))\n",
        "\n"
      ]
    },
    {
      "cell_type": "code",
      "source": [
        "#Conversion\n",
        "vies=200\n",
        "reponse= input(\"Combien as tu de vies \")\n",
        "print(\"valeur de reponse\", reponse,\" et type \",type(reponse))\n",
        "\n",
        "# Convert the input string to an integer before adding\n",
        "vies = vies + int(reponse)\n",
        "print(\"Nouvelle valeur de vies: \", vies)"
      ],
      "metadata": {
        "colab": {
          "base_uri": "https://localhost:8080/"
        },
        "id": "a_jnV_rbSkCn",
        "outputId": "e14a0753-9056-4b1a-815b-8318179b6f36"
      },
      "execution_count": null,
      "outputs": [
        {
          "output_type": "stream",
          "name": "stdout",
          "text": [
            "Combien as tu de vies 200\n",
            "valeur de reponse 200  et type  <class 'str'>\n",
            "Nouvelle valeur de vies:  400\n"
          ]
        }
      ]
    },
    {
      "cell_type": "code",
      "source": [
        "#Operateur\n",
        "viePerso=100\n",
        "vieMonstre=70\n",
        "AttaquePerso=5\n",
        "AttaqueMonstre=5\n",
        "deuxpuissancetrois=2**3\n",
        "modulo5par2=5%2\n",
        "divisionentiere5par2=5//2\n",
        "print(\"deuxpuissancetrois \",deuxpuissancetrois,\" modulo5par2 \",modulo5par2,\" divisionentiere5par2 \",divisionentiere5par2)\n",
        "while viePerso>0 and vieMonstre>0:\n",
        "    viePerso=viePerso-AttaqueMonstre\n",
        "    vieMonstre=vieMonstre-AttaquePerso\n",
        "    print(\"viePerso \",viePerso,\" vieMonstre \",vieMonstre)\n",
        "print(\"Fin du combat\")\n",
        "\n",
        "\n"
      ],
      "metadata": {
        "id": "Eymda0pNU7aZ",
        "colab": {
          "base_uri": "https://localhost:8080/"
        },
        "outputId": "6cee79de-a8f6-4f44-fdcf-20f704765c13"
      },
      "execution_count": null,
      "outputs": [
        {
          "output_type": "stream",
          "name": "stdout",
          "text": [
            "deuxpuissancetrois  8  modulo5par2  1  divisionentiere5par2  2\n",
            "viePerso  95  vieMonstre  65\n",
            "viePerso  90  vieMonstre  60\n",
            "viePerso  85  vieMonstre  55\n",
            "viePerso  80  vieMonstre  50\n",
            "viePerso  75  vieMonstre  45\n",
            "viePerso  70  vieMonstre  40\n",
            "viePerso  65  vieMonstre  35\n",
            "viePerso  60  vieMonstre  30\n",
            "viePerso  55  vieMonstre  25\n",
            "viePerso  50  vieMonstre  20\n",
            "viePerso  45  vieMonstre  15\n",
            "viePerso  40  vieMonstre  10\n",
            "viePerso  35  vieMonstre  5\n",
            "viePerso  30  vieMonstre  0\n",
            "Fin du combat\n"
          ]
        }
      ]
    },
    {
      "cell_type": "code",
      "source": [
        "#operation sur variables\n",
        "prenom=\"Manu\"\n",
        "espace=\" \"\n",
        "nom=\"Goitia\"\n",
        "print(prenom+espace+nom)\n",
        "argentdepoche=100\n",
        "argentdumois=20\n",
        "argentdepoche=argentdepoche+argentdumois\n",
        "print(argentdepoche)\n",
        "argentdepoche+=argentdumois\n",
        "print(argentdepoche)"
      ],
      "metadata": {
        "colab": {
          "base_uri": "https://localhost:8080/"
        },
        "id": "OQPmv39maxWm",
        "outputId": "b4803da7-32c0-411f-bce7-a6e55513ee59"
      },
      "execution_count": null,
      "outputs": [
        {
          "output_type": "stream",
          "name": "stdout",
          "text": [
            "Manu Goitia\n",
            "120\n",
            "140\n"
          ]
        }
      ]
    },
    {
      "cell_type": "code",
      "source": [
        "#operation sur boolen\n",
        "a=100\n",
        "b=200\n",
        "if a > b:\n",
        "    print(\"a est plus grand que b\")\n",
        "else:\n",
        "    print(\"b est plus grand que a\")"
      ],
      "metadata": {
        "colab": {
          "base_uri": "https://localhost:8080/"
        },
        "id": "QG3jpXQEc9lR",
        "outputId": "c8f9f505-44ef-48cf-8cc2-4b5b493761e3"
      },
      "execution_count": null,
      "outputs": [
        {
          "output_type": "stream",
          "name": "stdout",
          "text": [
            "b est plus grand que a\n"
          ]
        }
      ]
    },
    {
      "cell_type": "code",
      "metadata": {
        "colab": {
          "base_uri": "https://localhost:8080/"
        },
        "id": "9cdccbbd",
        "outputId": "546c398b-3957-4acd-c3fa-d1ee4b4daba9"
      },
      "source": [
        "# expression conditionelle sur une seule ligne\n",
        "a = 100\n",
        "b = 200\n",
        "print(\"a est plus grand que b\") if a > b else print(\"b est plus grand que a\")"
      ],
      "execution_count": null,
      "outputs": [
        {
          "output_type": "stream",
          "name": "stdout",
          "text": [
            "b est plus grand que a\n"
          ]
        }
      ]
    },
    {
      "cell_type": "code",
      "metadata": {
        "colab": {
          "base_uri": "https://localhost:8080/"
        },
        "id": "5089c64c",
        "outputId": "6ee89b52-6e9f-471f-d2e7-3de1361ab7d6"
      },
      "source": [
        "# Using semicolons (less common and less readable)\n",
        "a = 100\n",
        "b = 200\n",
        "if a > b: print(\"a est plus grand que b\");\n",
        "else: print(\"b est plus grand que a\")"
      ],
      "execution_count": null,
      "outputs": [
        {
          "output_type": "stream",
          "name": "stdout",
          "text": [
            "b est plus grand que a\n"
          ]
        }
      ]
    },
    {
      "cell_type": "code",
      "source": [
        "Romaneestbelle=True\n",
        "laMechanteSorciereArrive=True\n",
        "if not laMechanteSorciereArrive:\n",
        "    Romaneestbelle=False\n",
        "print(\"Romaneestbelle \",Romaneestbelle)\n",
        "if Romaneestbelle==laMechanteSorciereArrive:\n",
        "  print (\"ca va chier grave\")\n",
        "else:\n",
        "  print(\"la vie est belle\")"
      ],
      "metadata": {
        "colab": {
          "base_uri": "https://localhost:8080/"
        },
        "id": "QVHmwXKMeIzp",
        "outputId": "fdefc874-5d26-416a-fd78-1ee6f440d51d"
      },
      "execution_count": null,
      "outputs": [
        {
          "output_type": "stream",
          "name": "stdout",
          "text": [
            "Romaneestbelle  True\n",
            "ca va chier grave\n"
          ]
        }
      ]
    },
    {
      "cell_type": "markdown",
      "source": [
        "Que sont les collections: permettent de rassembler des elements.\n",
        "Les listes peuvent avoir de 0 à n elements qui peuvent etre differents, on peut meler des booleens, entiersn chaine ...\n"
      ],
      "metadata": {
        "id": "gkzr6ShoffQQ"
      }
    },
    {
      "cell_type": "code",
      "source": [
        "#Les listes peuvent changer et contiennent des valeurs\n",
        "#les tuples ne peuvent changer et contiennent des valeurs\n",
        "#Les dictionnaires contiennent des key-values, sont mutables\n",
        "#les Ranges sont des suites consecutives de chiffres utilises dans des loops\n",
        "malistevide=[]\n",
        "malisteExemple=[\"bread\",\"jam\",\"butter\"]\n",
        "print(malisteExemple[0])\n",
        "malisteExemple[0]=\"Pain\"\n",
        "#longueur\n",
        "print(len(malisteExemple))\n",
        "#Max\n",
        "max(malisteExemple)\n",
        "#Min\n",
        "min(malisteExemple)\n",
        "malisteExemple.append(\"Saucisse\")\n",
        "print(malisteExemple)\n",
        "\n"
      ],
      "metadata": {
        "id": "I7cDs4L4fdd2",
        "colab": {
          "base_uri": "https://localhost:8080/"
        },
        "outputId": "d3a749b8-a603-4c7d-d71b-9e92073b5cab"
      },
      "execution_count": null,
      "outputs": [
        {
          "output_type": "stream",
          "name": "stdout",
          "text": [
            "bread\n",
            "3\n",
            "['Pain', 'jam', 'butter', 'Saucisse']\n"
          ]
        }
      ]
    },
    {
      "cell_type": "code",
      "source": [
        "malisteExemple.remove(\"jam\")\n",
        "print(malisteExemple)\n",
        "#on enleve le dernier\n",
        "malisteExemple.pop()\n",
        "print(malisteExemple)"
      ],
      "metadata": {
        "colab": {
          "base_uri": "https://localhost:8080/"
        },
        "id": "udVoE3CT_77g",
        "outputId": "81ed5ba2-e467-49bc-ebc3-590285a977a4"
      },
      "execution_count": null,
      "outputs": [
        {
          "output_type": "stream",
          "name": "stdout",
          "text": [
            "['Pain', 'butter', 'Saucisse']\n",
            "['Pain', 'butter']\n"
          ]
        }
      ]
    },
    {
      "cell_type": "code",
      "source": [
        "#les tuples, immutables on les met entre parentheses\n",
        "monkit=(\"bread\",\"jam\",\"butter\",\"bread\")\n",
        "print(monkit)\n",
        "print(monkit[2])\n",
        "print(monkit.count(\"bread\"))\n",
        "\n"
      ],
      "metadata": {
        "colab": {
          "base_uri": "https://localhost:8080/"
        },
        "id": "Y9MnpyrRCx7T",
        "outputId": "9839db86-5c87-4a15-df8c-d0f37a92df93"
      },
      "execution_count": null,
      "outputs": [
        {
          "output_type": "stream",
          "name": "stdout",
          "text": [
            "('bread', 'jam', 'butter', 'bread')\n",
            "butter\n",
            "2\n"
          ]
        }
      ]
    },
    {
      "cell_type": "code",
      "source": [
        "#les dictionnaires, on se fout de l'ordre et on peut les changer super pratique\n",
        "monDico={\"PotionSoin\":1,\"PotionMagie\":1,\"Ration\":5}\n",
        "print(monDico)\n",
        "print(monDico[\"PotionSoin\"])\n",
        "#on peut mettre a jour la valeur\n",
        "monDico[\"PotionSoin\"]=2\n",
        "print(monDico)\n",
        "monDico[\"PiecesOr\"]=100\n",
        "print(monDico)\n",
        "print(monDico.keys())\n",
        "print(monDico.values())\n",
        "print(monDico.items())\n",
        "print(monDico.get(\"PotionSoin\"))\n",
        "\n"
      ],
      "metadata": {
        "colab": {
          "base_uri": "https://localhost:8080/"
        },
        "id": "0o4PqIGvFncJ",
        "outputId": "b1618d34-340d-4a88-ecf1-67842686f076"
      },
      "execution_count": null,
      "outputs": [
        {
          "output_type": "stream",
          "name": "stdout",
          "text": [
            "{'PotionSoin': 1, 'PotionMagie': 1, 'Ration': 5}\n",
            "1\n",
            "{'PotionSoin': 2, 'PotionMagie': 1, 'Ration': 5}\n",
            "{'PotionSoin': 2, 'PotionMagie': 1, 'Ration': 5, 'PiecesOr': 100}\n",
            "dict_keys(['PotionSoin', 'PotionMagie', 'Ration', 'PiecesOr'])\n",
            "dict_values([2, 1, 5, 100])\n",
            "dict_items([('PotionSoin', 2), ('PotionMagie', 1), ('Ration', 5), ('PiecesOr', 100)])\n",
            "2\n"
          ]
        }
      ]
    },
    {
      "cell_type": "code",
      "source": [
        "monDico.pop(\"Ration\")\n",
        "print(monDico)"
      ],
      "metadata": {
        "colab": {
          "base_uri": "https://localhost:8080/"
        },
        "id": "wjaRa8xXLbSd",
        "outputId": "c0b5891a-002a-43ee-f69d-c043ec91250f"
      },
      "execution_count": null,
      "outputs": [
        {
          "output_type": "stream",
          "name": "stdout",
          "text": [
            "{'PotionSoin': 2, 'PotionMagie': 1, 'PiecesOr': 100}\n"
          ]
        }
      ]
    },
    {
      "cell_type": "code",
      "source": [
        "#Ranges\n",
        "range1a10=range(1,11)\n",
        "print(range1a10)\n",
        "print(list(range1a10))\n",
        "inverse10a1=reversed(range1a10)\n",
        "print(inverse10a1)\n",
        "print(list(inverse10a1))"
      ],
      "metadata": {
        "id": "de7ZtgW0MIq6",
        "colab": {
          "base_uri": "https://localhost:8080/"
        },
        "outputId": "41192743-86f0-4e09-a365-970dbdf51b24"
      },
      "execution_count": null,
      "outputs": [
        {
          "output_type": "stream",
          "name": "stdout",
          "text": [
            "range(1, 11)\n",
            "[1, 2, 3, 4, 5, 6, 7, 8, 9, 10]\n",
            "<range_iterator object at 0x7b1ef978c420>\n",
            "[10, 9, 8, 7, 6, 5, 4, 3, 2, 1]\n"
          ]
        }
      ]
    }
  ]
}