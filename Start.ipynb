{
  "nbformat": 4,
  "nbformat_minor": 0,
  "metadata": {
    "colab": {
      "provenance": [],
      "include_colab_link": true
    },
    "kernelspec": {
      "name": "python3",
      "display_name": "Python 3"
    },
    "language_info": {
      "name": "python"
    }
  },
  "cells": [
    {
      "cell_type": "markdown",
      "metadata": {
        "id": "view-in-github",
        "colab_type": "text"
      },
      "source": [
        "<a href=\"https://colab.research.google.com/github/Punkyherisson/MammothPython/blob/main/Start.ipynb\" target=\"_parent\"><img src=\"https://colab.research.google.com/assets/colab-badge.svg\" alt=\"Open In Colab\"/></a>"
      ]
    },
    {
      "cell_type": "markdown",
      "source": [
        "Comprehensive Python Foundations: A Beginner's Guide to Coding"
      ],
      "metadata": {
        "id": "2ba3rQogVpva"
      }
    },
    {
      "cell_type": "markdown",
      "source": [
        "Cours similaire à l'autre cours Mammoth"
      ],
      "metadata": {
        "id": "RSbRGM4VV2oR"
      }
    },
    {
      "cell_type": "markdown",
      "source": [
        "https://mammoth-interactive.teachable.com/courses/enrolled/2689246\n"
      ],
      "metadata": {
        "id": "EU55GmFSVxMn"
      }
    },
    {
      "cell_type": "code",
      "execution_count": null,
      "metadata": {
        "colab": {
          "base_uri": "https://localhost:8080/"
        },
        "id": "Uqzbh0_LJGLF",
        "outputId": "df81af84-e7b4-4f69-a2aa-5301d251f69f"
      },
      "outputs": [
        {
          "output_type": "stream",
          "name": "stdout",
          "text": [
            "Valeur de isGameOver  False\n",
            "Valeur de isGameStarted  True\n",
            "personnage  Aragorn  avec  50 points de vie maximum\n",
            "isGameOver=  False  type(isGameOver)  <class 'bool'>\n",
            "personnage=  Aragorn  type(personnage)  <class 'str'>\n"
          ]
        }
      ],
      "source": [
        "# Utilisation des variables\n",
        "\n",
        "##test aless##\n",
        "\n",
        "# Booleen\n",
        "isGameOver=False\n",
        "print(\"Valeur de isGameOver \",isGameOver)\n",
        "isGameStarted=12>3\n",
        "print(\"Valeur de isGameStarted \",isGameStarted)\n",
        "#String\n",
        "personnage=\"Aragorn\"\n",
        "#integer\n",
        "max_pts_vie=50\n",
        "#float\n",
        "soin_10pourcent=0.1\n",
        "print(\"personnage \",personnage,\" avec \",max_pts_vie,\"points de vie maximum\")\n",
        "#Voir le type d'une variable\n",
        "print(\"isGameOver= \",isGameOver,\" type(isGameOver) \",type(isGameOver))\n",
        "print(\"personnage= \",personnage,\" type(personnage) \",type(personnage))\n",
        "\n"
      ]
    },
    {
      "cell_type": "code",
      "source": [
        "#Conversion\n",
        "vies=200\n",
        "reponse= input(\"Combien as tu de vies \")\n",
        "print(\"valeur de reponse\", reponse,\" et type \",type(reponse))\n",
        "\n",
        "# Convert the input string to an integer before adding\n",
        "vies = vies + int(reponse)\n",
        "print(\"Nouvelle valeur de vies: \", vies)"
      ],
      "metadata": {
        "colab": {
          "base_uri": "https://localhost:8080/"
        },
        "id": "a_jnV_rbSkCn",
        "outputId": "b62082c0-6a94-43db-e201-981192a8424a"
      },
      "execution_count": null,
      "outputs": [
        {
          "output_type": "stream",
          "name": "stdout",
          "text": [
            "Combien as tu de vies 200\n",
            "valeur de reponse 200  et type  <class 'str'>\n",
            "Nouvelle valeur de vies:  400\n"
          ]
        }
      ]
    },
    {
      "cell_type": "code",
      "source": [
        "#Operateur\n",
        "viePerso=100\n",
        "vieMonstre=70\n",
        "AttaquePerso=5\n",
        "AttaqueMonstre=5\n",
        "deuxpuissancetrois=2**3\n",
        "modulo5par2=5%2\n",
        "divisionentiere5par2=5//2\n",
        "print(\"deuxpuissancetrois \",deuxpuissancetrois,\" modulo5par2 \",modulo5par2,\" divisionentiere5par2 \",divisionentiere5par2)\n",
        "while viePerso>0 and vieMonstre>0:\n",
        "    viePerso=viePerso-AttaqueMonstre\n",
        "    vieMonstre=vieMonstre-AttaquePerso\n",
        "    print(\"viePerso \",viePerso,\" vieMonstre \",vieMonstre)\n",
        "print(\"Fin du combat\")\n",
        "\n",
        "\n"
      ],
      "metadata": {
        "id": "Eymda0pNU7aZ",
        "colab": {
          "base_uri": "https://localhost:8080/"
        },
        "outputId": "78373bb1-eb44-4b98-ee99-d1ef7d2314b9"
      },
      "execution_count": null,
      "outputs": [
        {
          "output_type": "stream",
          "name": "stdout",
          "text": [
            "deuxpuissancetrois  8  modulo5par2  1  divisionentiere5par2  2\n",
            "viePerso  95  vieMonstre  65\n",
            "viePerso  90  vieMonstre  60\n",
            "viePerso  85  vieMonstre  55\n",
            "viePerso  80  vieMonstre  50\n",
            "viePerso  75  vieMonstre  45\n",
            "viePerso  70  vieMonstre  40\n",
            "viePerso  65  vieMonstre  35\n",
            "viePerso  60  vieMonstre  30\n",
            "viePerso  55  vieMonstre  25\n",
            "viePerso  50  vieMonstre  20\n",
            "viePerso  45  vieMonstre  15\n",
            "viePerso  40  vieMonstre  10\n",
            "viePerso  35  vieMonstre  5\n",
            "viePerso  30  vieMonstre  0\n",
            "Fin du combat\n"
          ]
        }
      ]
    },
    {
      "cell_type": "code",
      "source": [
        "#operation sur variables\n",
        "prenom=\"Manu\"\n",
        "espace=\" \"\n",
        "nom=\"Goitia\"\n",
        "print(prenom+espace+nom)\n",
        "argentdepoche=100\n",
        "argentdumois=20\n",
        "argentdepoche=argentdepoche+argentdumois\n",
        "print(argentdepoche)\n",
        "argentdepoche+=argentdumois\n",
        "print(argentdepoche)"
      ],
      "metadata": {
        "colab": {
          "base_uri": "https://localhost:8080/"
        },
        "id": "OQPmv39maxWm",
        "outputId": "2ef599c7-86b3-47b7-b39f-346efca91b20"
      },
      "execution_count": null,
      "outputs": [
        {
          "output_type": "stream",
          "name": "stdout",
          "text": [
            "Manu Goitia\n",
            "120\n",
            "140\n"
          ]
        }
      ]
    },
    {
      "cell_type": "code",
      "source": [
        "#operation sur boolen\n",
        "a=100\n",
        "b=200\n",
        "if a > b:\n",
        "    print(\"a est plus grand que b\")\n",
        "else:\n",
        "    print(\"b est plus grand que a\")"
      ],
      "metadata": {
        "colab": {
          "base_uri": "https://localhost:8080/"
        },
        "id": "QG3jpXQEc9lR",
        "outputId": "e5ff92b0-2457-468b-cf28-77140839ed32"
      },
      "execution_count": null,
      "outputs": [
        {
          "output_type": "stream",
          "name": "stdout",
          "text": [
            "b est plus grand que a\n"
          ]
        }
      ]
    },
    {
      "cell_type": "code",
      "metadata": {
        "colab": {
          "base_uri": "https://localhost:8080/"
        },
        "id": "9cdccbbd",
        "outputId": "8a585f03-924e-4ffc-f3b0-954e6707dafd"
      },
      "source": [
        "# expression conditionelle sur une seule ligne\n",
        "a = 100\n",
        "b = 200\n",
        "print(\"a est plus grand que b\") if a > b else print(\"b est plus grand que a\")"
      ],
      "execution_count": null,
      "outputs": [
        {
          "output_type": "stream",
          "name": "stdout",
          "text": [
            "b est plus grand que a\n"
          ]
        }
      ]
    },
    {
      "cell_type": "code",
      "metadata": {
        "colab": {
          "base_uri": "https://localhost:8080/"
        },
        "id": "5089c64c",
        "outputId": "02165348-c069-4d31-ab82-a90d49dd6114"
      },
      "source": [
        "# Using semicolons (less common and less readable)\n",
        "a = 100\n",
        "b = 200\n",
        "if a > b: print(\"a est plus grand que b\");\n",
        "else: print(\"b est plus grand que a\")"
      ],
      "execution_count": null,
      "outputs": [
        {
          "output_type": "stream",
          "name": "stdout",
          "text": [
            "b est plus grand que a\n"
          ]
        }
      ]
    },
    {
      "cell_type": "code",
      "source": [
        "Romaneestbelle=True\n",
        "laMechanteSorciereArrive=True\n",
        "if not laMechanteSorciereArrive:\n",
        "    Romaneestbelle=False\n",
        "print(\"Romaneestbelle \",Romaneestbelle)\n",
        "if Romaneestbelle==laMechanteSorciereArrive:\n",
        "  print (\"ca va chier grave\")\n",
        "else:\n",
        "  print(\"la vie est belle\")"
      ],
      "metadata": {
        "colab": {
          "base_uri": "https://localhost:8080/"
        },
        "id": "QVHmwXKMeIzp",
        "outputId": "17035f2f-8c02-4ff8-9f35-6164f8103798"
      },
      "execution_count": null,
      "outputs": [
        {
          "output_type": "stream",
          "name": "stdout",
          "text": [
            "Romaneestbelle  True\n",
            "ca va chier grave\n"
          ]
        }
      ]
    },
    {
      "cell_type": "markdown",
      "source": [
        "Que sont les collections: permettent de rassembler des elements.\n",
        "Les listes peuvent avoir de 0 à n elements qui peuvent etre differents, on peut meler des booleens, entiersn chaine ...\n"
      ],
      "metadata": {
        "id": "gkzr6ShoffQQ"
      }
    },
    {
      "cell_type": "code",
      "source": [
        "#Les listes peuvent changer et contiennent des valeurs\n",
        "#les tuples ne peuvent changer et contiennent des valeurs\n",
        "#Les dictionnaires contiennent des key-values, sont mutables\n",
        "#les Ranges sont des suites consecutives de chiffres utilises dans des loops\n",
        "malistevide=[]\n",
        "malisteExemple=[\"bread\",\"jam\",\"butter\"]\n",
        "print(malisteExemple[0])\n",
        "malisteExemple[0]=\"Pain\"\n",
        "#longueur\n",
        "print(len(malisteExemple))\n",
        "#Max\n",
        "max(malisteExemple)\n",
        "#Min\n",
        "min(malisteExemple)\n",
        "malisteExemple.append(\"Saucisse\")\n",
        "print(malisteExemple)\n",
        "\n"
      ],
      "metadata": {
        "id": "I7cDs4L4fdd2",
        "colab": {
          "base_uri": "https://localhost:8080/"
        },
        "outputId": "427b9f04-0070-4178-88c2-d5c18488d837"
      },
      "execution_count": null,
      "outputs": [
        {
          "output_type": "stream",
          "name": "stdout",
          "text": [
            "bread\n",
            "3\n",
            "['Pain', 'jam', 'butter', 'Saucisse']\n"
          ]
        }
      ]
    },
    {
      "cell_type": "code",
      "source": [
        "malisteExemple.remove(\"jam\")\n",
        "print(malisteExemple)\n",
        "#on enleve le dernier\n",
        "malisteExemple.pop()\n",
        "print(malisteExemple)"
      ],
      "metadata": {
        "colab": {
          "base_uri": "https://localhost:8080/"
        },
        "id": "udVoE3CT_77g",
        "outputId": "ac8b2c81-c428-42a7-85e6-02cbc2284dc9"
      },
      "execution_count": null,
      "outputs": [
        {
          "output_type": "stream",
          "name": "stdout",
          "text": [
            "['Pain', 'butter', 'Saucisse']\n",
            "['Pain', 'butter']\n"
          ]
        }
      ]
    },
    {
      "cell_type": "code",
      "source": [
        "#les tuples, immutables on les met entre parentheses\n",
        "monkit=(\"bread\",\"jam\",\"butter\",\"bread\")\n",
        "print(monkit)\n",
        "print(monkit[2])\n",
        "print(monkit.count(\"bread\"))\n",
        "\n"
      ],
      "metadata": {
        "colab": {
          "base_uri": "https://localhost:8080/"
        },
        "id": "Y9MnpyrRCx7T",
        "outputId": "95751b79-2981-4825-da08-23f82b1e991e"
      },
      "execution_count": null,
      "outputs": [
        {
          "output_type": "stream",
          "name": "stdout",
          "text": [
            "('bread', 'jam', 'butter', 'bread')\n",
            "butter\n",
            "2\n"
          ]
        }
      ]
    },
    {
      "cell_type": "code",
      "source": [
        "#les dictionnaires, on se fout de l'ordre et on peut les changer super pratique\n",
        "monDico={\"PotionSoin\":1,\"PotionMagie\":1,\"Ration\":5}\n",
        "print(monDico)\n",
        "print(monDico[\"PotionSoin\"])\n",
        "#on peut mettre a jour la valeur\n",
        "monDico[\"PotionSoin\"]=2\n",
        "print(monDico)\n",
        "monDico[\"PiecesOr\"]=100\n",
        "print(monDico)\n",
        "print(monDico.keys())\n",
        "print(monDico.values())\n",
        "print(monDico.items())\n",
        "print(monDico.get(\"PotionSoin\"))\n",
        "\n"
      ],
      "metadata": {
        "colab": {
          "base_uri": "https://localhost:8080/"
        },
        "id": "0o4PqIGvFncJ",
        "outputId": "a9921a93-f059-4694-d454-e835cc3413f3"
      },
      "execution_count": null,
      "outputs": [
        {
          "output_type": "stream",
          "name": "stdout",
          "text": [
            "{'PotionSoin': 1, 'PotionMagie': 1, 'Ration': 5}\n",
            "1\n",
            "{'PotionSoin': 2, 'PotionMagie': 1, 'Ration': 5}\n",
            "{'PotionSoin': 2, 'PotionMagie': 1, 'Ration': 5, 'PiecesOr': 100}\n",
            "dict_keys(['PotionSoin', 'PotionMagie', 'Ration', 'PiecesOr'])\n",
            "dict_values([2, 1, 5, 100])\n",
            "dict_items([('PotionSoin', 2), ('PotionMagie', 1), ('Ration', 5), ('PiecesOr', 100)])\n",
            "2\n"
          ]
        }
      ]
    },
    {
      "cell_type": "code",
      "source": [
        "monDico.pop(\"Ration\")\n",
        "print(monDico)"
      ],
      "metadata": {
        "colab": {
          "base_uri": "https://localhost:8080/"
        },
        "id": "wjaRa8xXLbSd",
        "outputId": "4624c2f8-c632-4472-a5bc-92457d8ff0f6"
      },
      "execution_count": null,
      "outputs": [
        {
          "output_type": "stream",
          "name": "stdout",
          "text": [
            "{'PotionSoin': 2, 'PotionMagie': 1, 'PiecesOr': 100}\n"
          ]
        }
      ]
    },
    {
      "cell_type": "code",
      "source": [
        "aq#Ranges\n",
        "range1a10=range(1,11)\n",
        "print(range1a10)\n",
        "print(list(range1a10))\n",
        "inverse10a1=reversed(range1a10)\n",
        "print(inverse10a1)\n",
        "print(list(inverse10a1))\n",
        "print(list(range(1,11,2)))"
      ],
      "metadata": {
        "id": "de7ZtgW0MIq6",
        "colab": {
          "base_uri": "https://localhost:8080/",
          "height": 217
        },
        "outputId": "07c16abe-f004-479c-c7f6-fcb6c258aea0"
      },
      "execution_count": null,
      "outputs": [
        {
          "output_type": "error",
          "ename": "NameError",
          "evalue": "name 'aq' is not defined",
          "traceback": [
            "\u001b[0;31m---------------------------------------------------------------------------\u001b[0m",
            "\u001b[0;31mNameError\u001b[0m                                 Traceback (most recent call last)",
            "\u001b[0;32m/tmp/ipython-input-3378579010.py\u001b[0m in \u001b[0;36m<cell line: 0>\u001b[0;34m()\u001b[0m\n\u001b[0;32m----> 1\u001b[0;31m \u001b[0maq\u001b[0m\u001b[0;31m#Ranges\u001b[0m\u001b[0;34m\u001b[0m\u001b[0;34m\u001b[0m\u001b[0m\n\u001b[0m\u001b[1;32m      2\u001b[0m \u001b[0mrange1a10\u001b[0m\u001b[0;34m=\u001b[0m\u001b[0mrange\u001b[0m\u001b[0;34m(\u001b[0m\u001b[0;36m1\u001b[0m\u001b[0;34m,\u001b[0m\u001b[0;36m11\u001b[0m\u001b[0;34m)\u001b[0m\u001b[0;34m\u001b[0m\u001b[0;34m\u001b[0m\u001b[0m\n\u001b[1;32m      3\u001b[0m \u001b[0mprint\u001b[0m\u001b[0;34m(\u001b[0m\u001b[0mrange1a10\u001b[0m\u001b[0;34m)\u001b[0m\u001b[0;34m\u001b[0m\u001b[0;34m\u001b[0m\u001b[0m\n\u001b[1;32m      4\u001b[0m \u001b[0mprint\u001b[0m\u001b[0;34m(\u001b[0m\u001b[0mlist\u001b[0m\u001b[0;34m(\u001b[0m\u001b[0mrange1a10\u001b[0m\u001b[0;34m)\u001b[0m\u001b[0;34m)\u001b[0m\u001b[0;34m\u001b[0m\u001b[0;34m\u001b[0m\u001b[0m\n\u001b[1;32m      5\u001b[0m \u001b[0minverse10a1\u001b[0m\u001b[0;34m=\u001b[0m\u001b[0mreversed\u001b[0m\u001b[0;34m(\u001b[0m\u001b[0mrange1a10\u001b[0m\u001b[0;34m)\u001b[0m\u001b[0;34m\u001b[0m\u001b[0;34m\u001b[0m\u001b[0m\n",
            "\u001b[0;31mNameError\u001b[0m: name 'aq' is not defined"
          ]
        }
      ]
    },
    {
      "cell_type": "code",
      "source": [
        "#on utilise les tests pour controler le programme\n",
        "maNoteSur20=input(\"Entrez votre note sur 20: \")\n",
        "maNoteSur20=int(maNoteSur20)\n",
        "if maNoteSur20>=18:\n",
        "    print(\"Excellent\")\n",
        "elif maNoteSur20>=16:\n",
        "    print(\"Très bien\")\n",
        "elif maNoteSur20>=14:\n",
        "    print(\"Bien\")\n",
        "else:\n",
        "    print(\"Insuffisant\")\n"
      ],
      "metadata": {
        "id": "dsHsSglgV-Lg"
      },
      "execution_count": null,
      "outputs": []
    },
    {
      "cell_type": "code",
      "source": [
        "#on peut combiner des tests\n",
        "mavie=100\n",
        "mesPotions=3\n",
        "print(mavie)\n",
        "mavie=mavie-25\n",
        "if mavie<50 and mesPotions>1:\n",
        "  mavie=mavie+50\n",
        "  mesPotions=mesPotions-1\n",
        "print(mavie)"
      ],
      "metadata": {
        "id": "y5LwM6LWddgS"
      },
      "execution_count": null,
      "outputs": []
    },
    {
      "cell_type": "code",
      "source": [
        "#les boucles permettent de repeter du code\n",
        "#while - on boucle jusqua la condition de sortie de la boucle ... a priori on ne\n",
        "#sait pas a l'avance combien de fois ca va boucler,\n",
        "#on peut mettre break et continue\n",
        "#attention aux boucles infinies\n",
        "mavie=100\n",
        "mesPotions=3\n",
        "moniteration=0\n",
        "print(mavie)\n",
        "while mavie>0:\n",
        "  moniteration=moniteration+1\n",
        "  print(\"iteration \",moniteration)\n",
        "  mavie=mavie-25\n",
        "  if mavie<50 and mesPotions>1:\n",
        "    mavie=mavie+50\n",
        "    mesPotions=mesPotions-1\n",
        "print(mavie)\n"
      ],
      "metadata": {
        "id": "BSulNYYnelCr"
      },
      "execution_count": null,
      "outputs": []
    },
    {
      "cell_type": "code",
      "source": [
        "#les boucles for on sait combien de fois ca va tourner\n",
        "#on peut utiliser les ranges\n",
        "# on peut utiliser break continue\n",
        "# on peut les convertir en while mais pas l'inverse\n",
        "for i in range(1,6):\n",
        "  print(i)"
      ],
      "metadata": {
        "id": "goUluKgfgSGD"
      },
      "execution_count": null,
      "outputs": []
    },
    {
      "cell_type": "code",
      "source": [
        "#liste avec for\n",
        "maliste=[\"pain\",\"confiture\",\"beurre\",'nutella']\n",
        "for element in maliste:\n",
        "  print(element)"
      ],
      "metadata": {
        "id": "ISijRQ7y6us0"
      },
      "execution_count": null,
      "outputs": []
    },
    {
      "cell_type": "code",
      "source": [
        "maliste=[\"pain\",\"confiture\",\"beurre\",'nutella']\n",
        "element=0\n",
        "while element < len(maliste):\n",
        "  print(maliste[element])\n",
        "  element=element+1\n"
      ],
      "metadata": {
        "id": "FyzOCvtt8Btt"
      },
      "execution_count": null,
      "outputs": []
    },
    {
      "cell_type": "code",
      "source": [
        "#Les fonctions\n",
        "def mafonction():\n",
        "  print(\"Bonjour\")\n",
        "\n",
        "mafonction()"
      ],
      "metadata": {
        "id": "AOJRy-vV9__U"
      },
      "execution_count": null,
      "outputs": []
    },
    {
      "cell_type": "code",
      "source": [
        "#Fonction avec parametres\n",
        "xpos=0\n",
        "def move():\n",
        "  #si pas global ne fonctionnera pas\n",
        "  global xpos\n",
        "  xpos=xpos+1\n",
        "  return xpos\n",
        "\n",
        "print(move())\n",
        "\n",
        "\n"
      ],
      "metadata": {
        "id": "uSpO5UisudHN"
      },
      "execution_count": null,
      "outputs": []
    },
    {
      "cell_type": "code",
      "source": [
        "#parametre et return\n",
        "def carre(nombre):\n",
        "  return nombre**2\n",
        "\n",
        "print(carre(5))\n"
      ],
      "metadata": {
        "colab": {
          "base_uri": "https://localhost:8080/"
        },
        "id": "C-yGrIThkKcW",
        "outputId": "b5bed1bb-8c37-4bcd-e20e-b6a7f92f70aa"
      },
      "execution_count": null,
      "outputs": [
        {
          "output_type": "stream",
          "name": "stdout",
          "text": [
            "25\n"
          ]
        }
      ]
    },
    {
      "cell_type": "code",
      "source": [
        "#Avec des valeurs par defaut\n",
        "def produit(a=2,b=3):\n",
        "  return a*b\n",
        "\n",
        "print(produit())\n",
        "\n",
        "print(produit(5,6))"
      ],
      "metadata": {
        "colab": {
          "base_uri": "https://localhost:8080/"
        },
        "id": "4FQ-rGxfEDYD",
        "outputId": "8199b464-9056-456a-bd7a-d82f887d2d74"
      },
      "execution_count": null,
      "outputs": [
        {
          "output_type": "stream",
          "name": "stdout",
          "text": [
            "6\n",
            "30\n"
          ]
        }
      ]
    },
    {
      "cell_type": "markdown",
      "source": [
        "Les objets ont des caracteristiques, des comportements\n",
        "Les classes sont les implementations\n",
        "Les fonctions s'appellent methodes et au depart il y a une methode speciale qui cree lobjet\n",
        "static members des classes avec des valeurs qui ne changent pas qq soit l'instance\n",
        "\n"
      ],
      "metadata": {
        "id": "QQXdzWJ2PRPG"
      }
    },
    {
      "cell_type": "code",
      "source": [
        "#class GameCharacter\n",
        "# on ne definit pas les variables comme en dessous mais dans des methodes\n",
        "# quand on execute ce code rien ne se passe (sauf check de synthaxe)\n",
        "# C'est un peu comme si on cree une variable de type int ou bool\n",
        "\n",
        "#x_pos\n",
        "#name\n",
        "#health\n",
        "class GameCharacter:\n",
        "\n",
        "  def __init__(self,name,pos,health):\n",
        "    self.name=name\n",
        "    self.pos=pos\n",
        "    self.health=health\n",
        "\n",
        "  def move(self, byamount):\n",
        "    self.pos=self.pos+byamount\n",
        "    return self.pos\n",
        "\n",
        "  def take_damage(self, amount):\n",
        "      self.health -= amount\n",
        "      if self.health < 0:\n",
        "        self.health = 0\n",
        "\n",
        "  def check_is_dead(self):\n",
        "      return self.health <= 0\n",
        "\n"
      ],
      "metadata": {
        "id": "DSWwWC75RpIM"
      },
      "execution_count": 2,
      "outputs": []
    },
    {
      "cell_type": "code",
      "source": [
        "#On créé ici l'objet de la classe\n",
        "personnage = GameCharacter('Manu', 0, 100)\n",
        "ennemi = GameCharacter('Orc', 0, 70)\n",
        "print(personnage.name)\n",
        "print(personnage.pos)\n",
        "print(personnage.health)\n",
        "print(personnage)"
      ],
      "metadata": {
        "colab": {
          "base_uri": "https://localhost:8080/"
        },
        "id": "wGdnPh3kCUeG",
        "outputId": "5dc5768e-b11b-4202-f9b2-46eb47a9252e"
      },
      "execution_count": 3,
      "outputs": [
        {
          "output_type": "stream",
          "name": "stdout",
          "text": [
            "Manu\n",
            "0\n",
            "100\n",
            "<__main__.GameCharacter object at 0x7f5e956d1c10>\n"
          ]
        }
      ]
    },
    {
      "cell_type": "code",
      "source": [
        "# 26 heritage\n",
        "# on va creer une classe GameCharacter qui herite de la precedente avec des\n",
        "# trucs en plus on garde move mais on a une fonction propre pour\n",
        "# take_damage et check_is_dead\n",
        "\n",
        "#on dit que l'heritage est la\n",
        "#class PlayerCharacter(GameCharacter):\n",
        "class PlayerCharacter(GameCharacter):\n",
        "\n",
        "  def __init__(self, name, x_pos, health, num_lives):\n",
        "    #on passe le constructeur du main\n",
        "    super().__init__(name, x_pos, health)\n",
        "    self.max_health = health\n",
        "    self.num_lives = num_lives\n",
        "\n",
        "  def take_damage(self, amount):\n",
        "    self.health -= amount\n",
        "    if self.health <= 0:\n",
        "      self.num_lives -= 1\n",
        "      self.health = self.max_health\n",
        "\n",
        "  def check_is_dead(self):\n",
        "    return self.health <= 0 and self.num_lives <= 0"
      ],
      "metadata": {
        "id": "cOCsSqwOG8M1"
      },
      "execution_count": null,
      "outputs": []
    }
  ]
}