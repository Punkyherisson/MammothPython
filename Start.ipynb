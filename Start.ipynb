{
  "nbformat": 4,
  "nbformat_minor": 0,
  "metadata": {
    "colab": {
      "provenance": [],
      "authorship_tag": "ABX9TyM3j0hXvgS6h8W4Biej8SUl",
      "include_colab_link": true
    },
    "kernelspec": {
      "name": "python3",
      "display_name": "Python 3"
    },
    "language_info": {
      "name": "python"
    }
  },
  "cells": [
    {
      "cell_type": "markdown",
      "metadata": {
        "id": "view-in-github",
        "colab_type": "text"
      },
      "source": [
        "<a href=\"https://colab.research.google.com/github/Punkyherisson/MammothPython/blob/main/Start.ipynb\" target=\"_parent\"><img src=\"https://colab.research.google.com/assets/colab-badge.svg\" alt=\"Open In Colab\"/></a>"
      ]
    },
    {
      "cell_type": "code",
      "execution_count": null,
      "metadata": {
        "colab": {
          "base_uri": "https://localhost:8080/"
        },
        "id": "Uqzbh0_LJGLF",
        "outputId": "a484c437-899f-4f68-a328-58226074894e"
      },
      "outputs": [
        {
          "output_type": "stream",
          "name": "stdout",
          "text": [
            "Valeur de isGameOver  False\n",
            "Valeur de isGameStarted  True\n",
            "personnage  Aragorn  avec  50 points de vie maximum\n",
            "isGameOver=  False  type(isGameOver)  <class 'bool'>\n",
            "personnage=  Aragorn  type(personnage)  <class 'str'>\n"
          ]
        }
      ],
      "source": [
        "# Utilisation des variables\n",
        "# Booleen\n",
        "isGameOver=False\n",
        "print(\"Valeur de isGameOver \",isGameOver)\n",
        "isGameStarted=12>3\n",
        "print(\"Valeur de isGameStarted \",isGameStarted)\n",
        "#String\n",
        "personnage=\"Aragorn\"\n",
        "#integer\n",
        "max_pts_vie=50\n",
        "#float\n",
        "soin_10pourcent=0.1\n",
        "print(\"personnage \",personnage,\" avec \",max_pts_vie,\"points de vie maximum\")\n",
        "#Voir le type d'une variable\n",
        "print(\"isGameOver= \",isGameOver,\" type(isGameOver) \",type(isGameOver))\n",
        "print(\"personnage= \",personnage,\" type(personnage) \",type(personnage))\n",
        "\n"
      ]
    },
    {
      "cell_type": "code",
      "source": [
        "#Conversion\n",
        "vies=200\n",
        "reponse= input(\"Combien as tu de vies \")\n",
        "print(\"valeur de reponse\", reponse,\" et type \",type(reponse))\n",
        "\n",
        "# Convert the input string to an integer before adding\n",
        "vies = vies + int(reponse)\n",
        "print(\"Nouvelle valeur de vies: \", vies)"
      ],
      "metadata": {
        "colab": {
          "base_uri": "https://localhost:8080/"
        },
        "id": "a_jnV_rbSkCn",
        "outputId": "e14a0753-9056-4b1a-815b-8318179b6f36"
      },
      "execution_count": null,
      "outputs": [
        {
          "output_type": "stream",
          "name": "stdout",
          "text": [
            "Combien as tu de vies 200\n",
            "valeur de reponse 200  et type  <class 'str'>\n",
            "Nouvelle valeur de vies:  400\n"
          ]
        }
      ]
    },
    {
      "cell_type": "code",
      "source": [
        "#Operateur\n",
        "viePerso=100\n",
        "vieMonstre=70\n",
        "AttaquePerso=5\n",
        "AttaqueMonstre=5\n",
        "deuxpuissancetrois=2**3\n",
        "modulo5par2=5%2\n",
        "divisionentiere5par2=5//2\n",
        "print(\"deuxpuissancetrois \",deuxpuissancetrois,\" modulo5par2 \",modulo5par2,\" divisionentiere5par2 \",divisionentiere5par2)\n",
        "while viePerso>0 and vieMonstre>0:\n",
        "    viePerso=viePerso-AttaqueMonstre\n",
        "    vieMonstre=vieMonstre-AttaquePerso\n",
        "    print(\"viePerso \",viePerso,\" vieMonstre \",vieMonstre)\n",
        "print(\"Fin du combat\")\n",
        "\n",
        "\n"
      ],
      "metadata": {
        "id": "Eymda0pNU7aZ",
        "colab": {
          "base_uri": "https://localhost:8080/"
        },
        "outputId": "6cee79de-a8f6-4f44-fdcf-20f704765c13"
      },
      "execution_count": null,
      "outputs": [
        {
          "output_type": "stream",
          "name": "stdout",
          "text": [
            "deuxpuissancetrois  8  modulo5par2  1  divisionentiere5par2  2\n",
            "viePerso  95  vieMonstre  65\n",
            "viePerso  90  vieMonstre  60\n",
            "viePerso  85  vieMonstre  55\n",
            "viePerso  80  vieMonstre  50\n",
            "viePerso  75  vieMonstre  45\n",
            "viePerso  70  vieMonstre  40\n",
            "viePerso  65  vieMonstre  35\n",
            "viePerso  60  vieMonstre  30\n",
            "viePerso  55  vieMonstre  25\n",
            "viePerso  50  vieMonstre  20\n",
            "viePerso  45  vieMonstre  15\n",
            "viePerso  40  vieMonstre  10\n",
            "viePerso  35  vieMonstre  5\n",
            "viePerso  30  vieMonstre  0\n",
            "Fin du combat\n"
          ]
        }
      ]
    },
    {
      "cell_type": "code",
      "source": [
        "#operation sur variables\n",
        "prenom=\"Manu\"\n",
        "espace=\" \"\n",
        "nom=\"Goitia\"\n",
        "print(prenom+espace+nom)\n",
        "argentdepoche=100\n",
        "argentdumois=20\n",
        "argentdepoche=argentdepoche+argentdumois\n",
        "print(argentdepoche)\n",
        "argentdepoche+=argentdumois\n",
        "print(argentdepoche)"
      ],
      "metadata": {
        "colab": {
          "base_uri": "https://localhost:8080/"
        },
        "id": "OQPmv39maxWm",
        "outputId": "b4803da7-32c0-411f-bce7-a6e55513ee59"
      },
      "execution_count": null,
      "outputs": [
        {
          "output_type": "stream",
          "name": "stdout",
          "text": [
            "Manu Goitia\n",
            "120\n",
            "140\n"
          ]
        }
      ]
    },
    {
      "cell_type": "code",
      "source": [
        "#operation sur boolen\n",
        "a=100\n",
        "b=200\n",
        "if a > b:\n",
        "    print(\"a est plus grand que b\")\n",
        "else:\n",
        "    print(\"b est plus grand que a\")"
      ],
      "metadata": {
        "colab": {
          "base_uri": "https://localhost:8080/"
        },
        "id": "QG3jpXQEc9lR",
        "outputId": "c8f9f505-44ef-48cf-8cc2-4b5b493761e3"
      },
      "execution_count": null,
      "outputs": [
        {
          "output_type": "stream",
          "name": "stdout",
          "text": [
            "b est plus grand que a\n"
          ]
        }
      ]
    },
    {
      "cell_type": "code",
      "metadata": {
        "colab": {
          "base_uri": "https://localhost:8080/"
        },
        "id": "9cdccbbd",
        "outputId": "546c398b-3957-4acd-c3fa-d1ee4b4daba9"
      },
      "source": [
        "# expression conditionelle sur une seule ligne\n",
        "a = 100\n",
        "b = 200\n",
        "print(\"a est plus grand que b\") if a > b else print(\"b est plus grand que a\")"
      ],
      "execution_count": null,
      "outputs": [
        {
          "output_type": "stream",
          "name": "stdout",
          "text": [
            "b est plus grand que a\n"
          ]
        }
      ]
    },
    {
      "cell_type": "code",
      "metadata": {
        "colab": {
          "base_uri": "https://localhost:8080/"
        },
        "id": "5089c64c",
        "outputId": "6ee89b52-6e9f-471f-d2e7-3de1361ab7d6"
      },
      "source": [
        "# Using semicolons (less common and less readable)\n",
        "a = 100\n",
        "b = 200\n",
        "if a > b: print(\"a est plus grand que b\");\n",
        "else: print(\"b est plus grand que a\")"
      ],
      "execution_count": null,
      "outputs": [
        {
          "output_type": "stream",
          "name": "stdout",
          "text": [
            "b est plus grand que a\n"
          ]
        }
      ]
    },
    {
      "cell_type": "code",
      "source": [
        "Romaneestbelle=True\n",
        "laMechanteSorciereArrive=True\n",
        "if not laMechanteSorciereArrive:\n",
        "    Romaneestbelle=False\n",
        "print(\"Romaneestbelle \",Romaneestbelle)\n",
        "if Romaneestbelle==laMechanteSorciereArrive:\n",
        "  print (\"ca va chier grave\")\n",
        "else:\n",
        "  print(\"la vie est belle\")"
      ],
      "metadata": {
        "colab": {
          "base_uri": "https://localhost:8080/"
        },
        "id": "QVHmwXKMeIzp",
        "outputId": "fdefc874-5d26-416a-fd78-1ee6f440d51d"
      },
      "execution_count": null,
      "outputs": [
        {
          "output_type": "stream",
          "name": "stdout",
          "text": [
            "Romaneestbelle  True\n",
            "ca va chier grave\n"
          ]
        }
      ]
    },
    {
      "cell_type": "markdown",
      "source": [
        "Que sont les collections: permettent de rassembler des elements.\n",
        "Les listes peuvent avoir de 0 à n elements qui peuvent etre differents, on peut meler des booleens, entiersn chaine ...\n"
      ],
      "metadata": {
        "id": "gkzr6ShoffQQ"
      }
    },
    {
      "cell_type": "code",
      "source": [],
      "metadata": {
        "id": "I7cDs4L4fdd2"
      },
      "execution_count": null,
      "outputs": []
    }
  ]
}